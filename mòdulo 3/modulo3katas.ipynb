{
 "cells": [
  {
   "cell_type": "markdown",
   "metadata": {},
   "source": [
    "##Ejercicio - Escribir declaraciones if, else, y elif"
   ]
  },
  {
   "cell_type": "code",
   "execution_count": null,
   "metadata": {},
   "outputs": [],
   "source": [
    "velocidadAsteroide=49\n",
    "if(velocidadAsteroide>25):\n",
    "    print(\"Advertencia!!! Un asteroide se acerca a la Tierra\")\n",
    "else:\n",
    "    print(\"Falsa Advertencia\")    "
   ]
  },
  {
   "cell_type": "code",
   "execution_count": 7,
   "metadata": {},
   "outputs": [
    {
     "name": "stdout",
     "output_type": "stream",
     "text": [
      "Falsa alarma\n"
     ]
    }
   ],
   "source": [
    "velocidadAsteroide=19\n",
    "if(velocidadAsteroide>=20):\n",
    "    print(\"Se puede ver un Rayo de luz en el cielo!\") \n",
    "else:\n",
    "    print(\"No se ve\")      \n",
    "                "
   ]
  },
  {
   "cell_type": "markdown",
   "metadata": {},
   "source": [
    "##Ejercicio: Uso de operadores and y or"
   ]
  },
  {
   "cell_type": "code",
   "execution_count": null,
   "metadata": {},
   "outputs": [],
   "source": [
    "velocidad_asteroide = 25\n",
    "tamano_asteroide = 40\n",
    "if velocidad_asteroide > 25 and tamano_asteroide > 25:\n",
    "    print('¡Advertencia, Un asteroide viene hacia la Tierra!')\n",
    "elif velocidad_asteroide >= 20:\n",
    "    print('¡Hay un Ryo de luz en el cielo!')\n",
    "elif tamano_asteroide < 25:\n",
    "    print('No se ve nada por aqui')\n",
    "else:\n",
    "    print('No se ve')        "
   ]
  }
 ],
 "metadata": {
  "interpreter": {
   "hash": "9435b969d99affd82a76e4d456590c42cf62dd3e4e457330ee0d6b23bebb2812"
  },
  "kernelspec": {
   "display_name": "Python 3.9.10 64-bit (windows store)",
   "language": "python",
   "name": "python3"
  },
  "language_info": {
   "codemirror_mode": {
    "name": "ipython",
    "version": 3
   },
   "file_extension": ".py",
   "mimetype": "text/x-python",
   "name": "python",
   "nbconvert_exporter": "python",
   "pygments_lexer": "ipython3",
   "version": "3.9.10"
  },
  "orig_nbformat": 4
 },
 "nbformat": 4,
 "nbformat_minor": 2
}
