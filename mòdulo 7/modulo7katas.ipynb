{
 "cells": [
  {
   "cell_type": "markdown",
   "metadata": {},
   "source": [
    "###Ejercicio 1: Creación de un bucle \"while\""
   ]
  },
  {
   "cell_type": "code",
   "execution_count": 2,
   "metadata": {},
   "outputs": [
    {
     "name": "stdout",
     "output_type": "stream",
     "text": [
      "marte\n",
      "venus\n",
      "tierra\n",
      "jupiter\n",
      "saturno\n"
     ]
    }
   ],
   "source": [
    "new_planet=''\n",
    "planets=[]\n",
    "\n",
    "while new_planet.lower() !='done':\n",
    "    if(new_planet):\n",
    "        planets.append(new_planet)\n",
    "    new_planet=input(\"Ingrese el nombre de un planeta o escriba done para terminar\")\n",
    "#Ejercicio 2: Creación de un ciclo \"for\"\n",
    "for x in planets:\n",
    "    print(x)\n"
   ]
  }
 ],
 "metadata": {
  "interpreter": {
   "hash": "9435b969d99affd82a76e4d456590c42cf62dd3e4e457330ee0d6b23bebb2812"
  },
  "kernelspec": {
   "display_name": "Python 3.9.10 64-bit (windows store)",
   "language": "python",
   "name": "python3"
  },
  "language_info": {
   "codemirror_mode": {
    "name": "ipython",
    "version": 3
   },
   "file_extension": ".py",
   "mimetype": "text/x-python",
   "name": "python",
   "nbconvert_exporter": "python",
   "pygments_lexer": "ipython3",
   "version": "3.9.10"
  },
  "orig_nbformat": 4
 },
 "nbformat": 4,
 "nbformat_minor": 2
}
