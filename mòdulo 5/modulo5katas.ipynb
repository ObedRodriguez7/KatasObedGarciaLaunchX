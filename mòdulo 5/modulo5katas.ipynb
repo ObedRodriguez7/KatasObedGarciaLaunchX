{
 "cells": [
  {
   "cell_type": "markdown",
   "metadata": {},
   "source": [
    "###Ejercicio1 - Utilizar operadores aritméticos"
   ]
  },
  {
   "cell_type": "code",
   "execution_count": null,
   "metadata": {},
   "outputs": [],
   "source": [
    "planeta_tierra=149597870\n",
    "planeta_jupiter=778547200\n",
    "\n",
    "distancia_km=planeta_tierra-planeta_jupiter\n",
    "print(abs(distancia_km))\n",
    "distancia_mll=distancia_km*0.621\n",
    "print(abs(distancia_mll))"
   ]
  },
  {
   "cell_type": "markdown",
   "metadata": {},
   "source": [
    "###Ejercicio 2: convierte cadenas en números y usa valores absolutos"
   ]
  },
  {
   "cell_type": "code",
   "execution_count": 8,
   "metadata": {},
   "outputs": [
    {
     "name": "stdout",
     "output_type": "stream",
     "text": [
      "58600000\n",
      "36390600.0\n"
     ]
    }
   ],
   "source": [
    "planeta1=int(input(\"Ingrese la distancia del sol para el planeta uno\"))\n",
    "planeta2=int(input(\"Ingrese la distancia del sol para el planeta dos\"))\n",
    "\n",
    "distancia_kms=planeta1-planeta2\n",
    "print(abs(distancia_kms))\n",
    "\n",
    "distancia_millas=distancia_kms*0.621\n",
    "print(abs(distancia_millas))"
   ]
  }
 ],
 "metadata": {
  "interpreter": {
   "hash": "9435b969d99affd82a76e4d456590c42cf62dd3e4e457330ee0d6b23bebb2812"
  },
  "kernelspec": {
   "display_name": "Python 3.9.10 64-bit (windows store)",
   "language": "python",
   "name": "python3"
  },
  "language_info": {
   "codemirror_mode": {
    "name": "ipython",
    "version": 3
   },
   "file_extension": ".py",
   "mimetype": "text/x-python",
   "name": "python",
   "nbconvert_exporter": "python",
   "pygments_lexer": "ipython3",
   "version": "3.9.10"
  },
  "orig_nbformat": 4
 },
 "nbformat": 4,
 "nbformat_minor": 2
}
