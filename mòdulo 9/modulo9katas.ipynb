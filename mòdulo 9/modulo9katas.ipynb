{
 "cells": [
  {
   "cell_type": "markdown",
   "metadata": {},
   "source": [
    "###Ejercicio: Uso de funciones en Python"
   ]
  },
  {
   "cell_type": "code",
   "execution_count": null,
   "metadata": {},
   "outputs": [],
   "source": [
    "def informe_combustible(tanque1,tanque2,tanque3):\n",
    "    return calcular_promedio(tanque1,tanque2,tanque3)\n",
    "\n",
    "\n",
    "def calcular_promedio(*args):\n",
    "    total_sum= sum(args)\n",
    "    promedio=total_sum/len(args)\n",
    "    return print(f\"El promedio es: {promedio}\")\n",
    "\n",
    "informe_combustible(5,10,30)"
   ]
  },
  {
   "cell_type": "markdown",
   "metadata": {},
   "source": [
    "###Ejercicio 2: Trabajo con argumentos de palabra clave\n"
   ]
  },
  {
   "cell_type": "code",
   "execution_count": null,
   "metadata": {},
   "outputs": [],
   "source": [
    "def informe_mision(destino,prelazamiento,tiempo,tanque_e,tanque_i):\n",
    "    return f\"\"\"\n",
    "    Mision a:{destino}\n",
    "    Tiempo total de viaje:{prelazamiento+tiempo} minutos\n",
    "    Combustibe total: {tanque_e+tanque_i} \n",
    "    \"\"\"\n",
    "\n",
    "informe_mision('Jupiter',10,60,300000,200000)"
   ]
  },
  {
   "cell_type": "code",
   "execution_count": 6,
   "metadata": {},
   "outputs": [
    {
     "data": {
      "text/plain": [
       "'\\n    Mision a:Jupiter\\n    Tiempo total de viaje:90 minutos\\n    Combustibe total: 500000 \\n    '"
      ]
     },
     "execution_count": 6,
     "metadata": {},
     "output_type": "execute_result"
    }
   ],
   "source": [
    "def informe_mision(destino,*minutos,**tanque_reservas):\n",
    "    return f\"\"\"\n",
    "    Mision a:{destino}\n",
    "    Tiempo total de viaje:{sum(minutos)} minutos\n",
    "    Combustibe total: {sum(tanque_reservas.values())} \n",
    "    \"\"\"\n",
    "\n",
    "informe_mision('Jupiter',10,60,20,main=300000, external=200000)"
   ]
  },
  {
   "cell_type": "code",
   "execution_count": 8,
   "metadata": {},
   "outputs": [
    {
     "data": {
      "text/plain": [
       "'\\n    Mision a:Jupiter\\n    Tiempo total de viaje:90 minutos\\n    Combustibe total: 500000 \\n    main tanque --> 300000 galones internos\\nexternal tanque --> 200000 galones internos\\n'"
      ]
     },
     "execution_count": 8,
     "metadata": {},
     "output_type": "execute_result"
    }
   ],
   "source": [
    "def informe_mision(destino,*minutos,**tanque_reservas):\n",
    "    reporte= f\"\"\"\n",
    "    Mision a:{destino}\n",
    "    Tiempo total de viaje:{sum(minutos)} minutos\n",
    "    Combustibe total: {sum(tanque_reservas.values())} \n",
    "    \"\"\"\n",
    "    for tanque, galones in tanque_reservas.items():\n",
    "        reporte += f\"{tanque} tanque --> {galones} galones internos\\n\"\n",
    "    return reporte\n",
    "\n",
    "informe_mision('Jupiter',10,60,20,main=300000, external=200000)"
   ]
  }
 ],
 "metadata": {
  "interpreter": {
   "hash": "9435b969d99affd82a76e4d456590c42cf62dd3e4e457330ee0d6b23bebb2812"
  },
  "kernelspec": {
   "display_name": "Python 3.9.10 64-bit (windows store)",
   "language": "python",
   "name": "python3"
  },
  "language_info": {
   "codemirror_mode": {
    "name": "ipython",
    "version": 3
   },
   "file_extension": ".py",
   "mimetype": "text/x-python",
   "name": "python",
   "nbconvert_exporter": "python",
   "pygments_lexer": "ipython3",
   "version": "3.9.10"
  },
  "orig_nbformat": 4
 },
 "nbformat": 4,
 "nbformat_minor": 2
}
