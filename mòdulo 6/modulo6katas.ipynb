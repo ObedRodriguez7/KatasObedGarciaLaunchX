{
 "cells": [
  {
   "cell_type": "markdown",
   "metadata": {},
   "source": [
    "### Ejercicio1: Crear y usar listas en python"
   ]
  },
  {
   "cell_type": "code",
   "execution_count": 56,
   "metadata": {},
   "outputs": [
    {
     "name": "stdout",
     "output_type": "stream",
     "text": [
      "8\n"
     ]
    }
   ],
   "source": [
    "planets=['Mercurio','Venus','Tierra','Marte','Jupiter','Saturno','Urano','Neptuno']\n",
    "print(len(planets))"
   ]
  },
  {
   "cell_type": "code",
   "execution_count": null,
   "metadata": {},
   "outputs": [],
   "source": [
    "planets.append('Pluton')\n",
    "print(planets[-1])\n"
   ]
  },
  {
   "cell_type": "markdown",
   "metadata": {},
   "source": [
    "### Ejercicio 2 Trbajando con datos de una lista"
   ]
  },
  {
   "cell_type": "code",
   "execution_count": 60,
   "metadata": {},
   "outputs": [
    {
     "name": "stdout",
     "output_type": "stream",
     "text": [
      "El planeta ingresado es Venus\n",
      "Los planetas màs cercano a: Venus\n",
      "['Mercurio']\n",
      "Los planetas màs lejanos a: Venus\n",
      "['Tierra', 'Marte', 'Jupiter', 'Saturno', 'Neptuno']\n"
     ]
    }
   ],
   "source": [
    "planets=['Mercurio','Venus','Tierra','Marte','Jupiter','Saturno','Neptuno']\n",
    "planeta=input(\"Ingresa el nombre de un planeta con la primera letra en mayùscula :) \")\n",
    "planeta_index=planets.index(planeta)\n",
    "print('El planeta ingresado es',planets[planeta_index])\n",
    "print('Los planetas màs cercano a:',planeta)\n",
    "print(planets[0:planeta_index])\n",
    "print('Los planetas màs lejanos a:',planeta)\n",
    "print(planets[planeta_index+1:])\n",
    "        \n",
    "\n",
    "     "
   ]
  },
  {
   "cell_type": "code",
   "execution_count": null,
   "metadata": {},
   "outputs": [],
   "source": []
  }
 ],
 "metadata": {
  "interpreter": {
   "hash": "9435b969d99affd82a76e4d456590c42cf62dd3e4e457330ee0d6b23bebb2812"
  },
  "kernelspec": {
   "display_name": "Python 3.9.10 64-bit (windows store)",
   "language": "python",
   "name": "python3"
  },
  "language_info": {
   "codemirror_mode": {
    "name": "ipython",
    "version": 3
   },
   "file_extension": ".py",
   "mimetype": "text/x-python",
   "name": "python",
   "nbconvert_exporter": "python",
   "pygments_lexer": "ipython3",
   "version": "3.9.10"
  },
  "orig_nbformat": 4
 },
 "nbformat": 4,
 "nbformat_minor": 2
}
